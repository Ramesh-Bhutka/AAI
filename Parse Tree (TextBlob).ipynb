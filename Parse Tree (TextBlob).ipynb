{
 "cells": [
  {
   "cell_type": "code",
   "execution_count": 1,
   "metadata": {},
   "outputs": [
    {
     "name": "stdout",
     "output_type": "stream",
     "text": [
      "2021-01-23 11:34:49.117925\n"
     ]
    }
   ],
   "source": [
    "from datetime import datetime\n",
    "now = datetime.now()\n",
    "print(now)"
   ]
  },
  {
   "cell_type": "code",
   "execution_count": 2,
   "metadata": {},
   "outputs": [
    {
     "name": "stdout",
     "output_type": "stream",
     "text": [
      "Name : Ramesh Bhutka\n",
      "Sap ID:- 53004190003\n"
     ]
    }
   ],
   "source": [
    "print(\"Name : Ramesh Bhutka\")\n",
    "print(\"Sap ID:- 53004190003\")"
   ]
  },
  {
   "cell_type": "markdown",
   "metadata": {},
   "source": [
    "## Parse Tree using TextBlob"
   ]
  },
  {
   "cell_type": "code",
   "execution_count": 3,
   "metadata": {},
   "outputs": [],
   "source": [
    "# https://stackabuse.com/python-for-nlp-getting-started-with-the-stanfordcorenlp-library/\n",
    "# https://stackabuse.com/python-for-nlp-introduction-to-the-textblob-library/\n",
    "#pip install TextBlob\n",
    "#python -m textblob.download_corpora"
   ]
  },
  {
   "cell_type": "code",
   "execution_count": 4,
   "metadata": {},
   "outputs": [
    {
     "name": "stdout",
     "output_type": "stream",
     "text": [
      "0.15.3\n"
     ]
    }
   ],
   "source": [
    "import textblob\n",
    "print(textblob.__version__)"
   ]
  },
  {
   "cell_type": "code",
   "execution_count": 5,
   "metadata": {},
   "outputs": [],
   "source": [
    "from textblob import TextBlob"
   ]
  },
  {
   "cell_type": "code",
   "execution_count": 9,
   "metadata": {},
   "outputs": [
    {
     "name": "stdout",
     "output_type": "stream",
     "text": [
      "Enter sentence : Mary and Samantha arrived at the bus station early but waited until noon for the bus.\n",
      "\n",
      "\n",
      "Sentence is : Mary and Samantha arrived at the bus station early but waited until noon for the bus.\n",
      "\n",
      "[Sentence(\"Mary and Samantha arrived at the bus station early but waited until noon for the bus.\")]\n",
      "1\n",
      "['Mary', 'and', 'Samantha', 'arrived', 'at', 'the', 'bus', 'station', 'early', 'but', 'waited', 'until', 'noon', 'for', 'the', 'bus']\n",
      "16\n",
      "Mary => NNP\n",
      "and => CC\n",
      "Samantha => NNP\n",
      "arrived => VBD\n",
      "at => IN\n",
      "the => DT\n",
      "bus => NN\n",
      "station => NN\n",
      "early => RB\n",
      "but => CC\n",
      "waited => VBD\n",
      "until => IN\n",
      "noon => NN\n",
      "for => IN\n",
      "the => DT\n",
      "bus => NN\n"
     ]
    }
   ],
   "source": [
    "from textblob import TextBlob\n",
    "# document = (\"Usain Bolt broke the 100m record\")\n",
    "text = input(\"Enter sentence : \")\n",
    "print(\"\\n\")\n",
    "print(\"Sentence is : \" + text+\"\\n\")\n",
    "text_blob_object = TextBlob(text)\n",
    "document_sentence = text_blob_object.sentences\n",
    "\n",
    "print(document_sentence)\n",
    "print(len(document_sentence))\n",
    "document_words = text_blob_object.words\n",
    "\n",
    "print(document_words)\n",
    "print(len(document_words))\n",
    "for word, pos in text_blob_object.tags:\n",
    "    print(word + \" => \" + pos)\n"
   ]
  },
  {
   "cell_type": "code",
   "execution_count": 10,
   "metadata": {},
   "outputs": [
    {
     "name": "stdout",
     "output_type": "stream",
     "text": [
      "मैरी और सामंथा बस स्टेशन पर जल्दी पहुंची लेकिन बस के लिए दोपहर तक इंतजार करती रही।\n",
      "\n",
      "મેરી અને સમન્તા વહેલી તકે બસ સ્ટેશન પર પહોંચ્યા પણ બપોર સુધી બસની રાહ જોતા રહ્યા.\n",
      "\n",
      "ਮੈਰੀ ਅਤੇ ਸਮਾਂਥਾ ਬੱਸ ਸਟੇਸ਼ਨ ਤੇ ਜਲਦੀ ਪਹੁੰਚੀ ਪਰ ਦੁਪਹਿਰ ਤੱਕ ਬੱਸ ਦਾ ਇੰਤਜ਼ਾਰ ਕਰਦੀ ਰਹੀ.\n",
      "\n",
      "मेरी आणि सामंथा लवकर बस स्थानकावर आल्या पण दुपारपर्यंत बसची वाट धरली.\n",
      "\n"
     ]
    }
   ],
   "source": [
    "print(text_blob_object.translate(to=\"hi\")+\"\\n\")\n",
    "print(text_blob_object.translate(to=\"Gu\")+\"\\n\")\n",
    "print(text_blob_object.translate(to=\"pa\")+\"\\n\") #punjabi\n",
    "print(text_blob_object.translate(to=\"mr\")+\"\\n\")\n"
   ]
  },
  {
   "cell_type": "code",
   "execution_count": null,
   "metadata": {},
   "outputs": [],
   "source": []
  }
 ],
 "metadata": {
  "kernelspec": {
   "display_name": "Python 3",
   "language": "python",
   "name": "python3"
  },
  "language_info": {
   "codemirror_mode": {
    "name": "ipython",
    "version": 3
   },
   "file_extension": ".py",
   "mimetype": "text/x-python",
   "name": "python",
   "nbconvert_exporter": "python",
   "pygments_lexer": "ipython3",
   "version": "3.8.5"
  }
 },
 "nbformat": 4,
 "nbformat_minor": 4
}
